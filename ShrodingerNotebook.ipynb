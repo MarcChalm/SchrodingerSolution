{
 "cells": [
  {
   "cell_type": "code",
   "execution_count": 1,
   "metadata": {
    "collapsed": true,
    "pycharm": {
     "is_executing": false
    }
   },
   "outputs": [],
   "source": [
    "import numpy as np\n",
    "import matplotlib as mpl\n",
    "import matplotlib.pyplot as plt\n",
    "import pandas as pd\n",
    "\n"
   ]
  },
  {
   "cell_type": "code",
   "execution_count": 2,
   "outputs": [],
   "source": [
    "\n",
    "def debugger(list_of_variables, list_of_variable_names):\n",
    "\n",
    "    for i in range(len(list_of_variables)):\n",
    "\n",
    "        variable_value = list_of_variables[i]\n",
    "        variable_name = list_of_variable_names[i]\n",
    "\n",
    "        print(f'Variable name:{variable_name}, Value:{variable_value}')"
   ],
   "metadata": {
    "pycharm": {
     "metadata": false,
     "name": "#%% \n",
     "is_executing": false
    }
   }
  },
  {
   "cell_type": "code",
   "execution_count": 4,
   "outputs": [],
   "source": [
    "\n",
    "# Defining Malfliet-Tjon potential\n",
    "\n",
    "def potential_V(r):\n",
    "    \n",
    "    # Realistik nukleon-nukleon potential of Malfliet-Tjon type.\n",
    "    # Ref: R. A. Malfliet and J.A. Tjon\n",
    "    # Nuclear Physics A127 (1969) 161-168\n",
    "    \n",
    "    # input: Radius r in 10^-15 m or 1 fm \n",
    "    # Output: Potential V in MeV\n",
    "    \n",
    "    \n",
    "    l_1 = -586.04\n",
    "    l_2 = 1458.19\n",
    "    l_3 = -872.15\n",
    "    \n",
    "    mu_1 = 1.55\n",
    "    mu_2 = 3.11\n",
    "    mu_3 = 6.00\n",
    "    \n",
    "    V_1 = l_1*np.exp(-mu_1*r)\n",
    "    V_2 = l_2*np.exp(-mu_2*r)\n",
    "    V_3 = l_3*np.exp(-mu_3*r)\n",
    "    \n",
    "    V = (V_1+V_2+V_3)/r\n",
    "    \n",
    "    return V\n",
    "\n"
   ],
   "metadata": {
    "pycharm": {
     "metadata": false,
     "name": "#%%\n",
     "is_executing": false
    }
   }
  },
  {
   "cell_type": "code",
   "execution_count": 5,
   "outputs": [],
   "source": [
    "\n",
    "# Populating Vr vector\n",
    "def populate_Vr(Vr, r):\n",
    "    \n",
    "    for i in range(Vr.size):\n",
    "    \n",
    "        Vr[i] = potential_V(r[i])\n",
    "\n",
    "    return Vr\n"
   ],
   "metadata": {
    "pycharm": {
     "metadata": false,
     "name": "#%%\n",
     "is_executing": false
    }
   }
  },
  {
   "cell_type": "code",
   "execution_count": 6,
   "outputs": [],
   "source": [
    "def populate_Fvec(Fvec, Vr, E):\n",
    "    \n",
    "    # Mass of protron in MeV/c^2\n",
    "    mass_protron = 938.272\n",
    "    # Mass of neutron in MeV/c^2\n",
    "    mass_neutron = 939.565\n",
    "    # Reduced mass of the deutron\n",
    "    my = (mass_protron*mass_neutron) / (mass_protron+mass_neutron)\n",
    "    # hbar*c = 197.327 MeV*fm\n",
    "    hbar = 197.327\n",
    "    # The c cancels out from the MeV/c^2 unit of my\n",
    "    K = 2 * my / hbar**2\n",
    "    \n",
    "    \n",
    "    for i in range(Fvec.size):\n",
    "    \n",
    "        Fvec[i] = K*(Vr[i]-E)\n",
    "    \n",
    "    return Fvec\n",
    "    "
   ],
   "metadata": {
    "pycharm": {
     "metadata": false,
     "name": "#%%\n",
     "is_executing": false
    }
   }
  },
  {
   "cell_type": "code",
   "execution_count": 7,
   "outputs": [],
   "source": [
    "\n",
    "def numerov(u, Fvec, u_0, u_1, index, steplength, revese=False):\n",
    "    \n",
    "    #TODO: Python magic? Revers the u vector, calculate and revers back? \n",
    "    \n",
    "    if revese:\n",
    "        u = u[::-1]\n",
    "    \n",
    "    # Init outward integrated wave function\n",
    "    u[0] = u_0\n",
    "    u[1] = u_1\n",
    "    h = steplength\n",
    "    # Numverov outward\n",
    "    for i in range(1,index):\n",
    "        \n",
    "        u_0 = u[i]\n",
    "        u_neg_1 = u[i-1]\n",
    "        \n",
    "        F_1 = Fvec[i+1]\n",
    "        F_0 = Fvec[i]\n",
    "        F_neg_1 = Fvec[i-1]\n",
    "        \n",
    "        \n",
    "        \n",
    "        #print('Debugger')\n",
    "        #print(f'u_0: {u_0}')\n",
    "        #print(f'u_neg_1: {u_neg_1}')\n",
    "        #print(f'F_1: {F_1}')\n",
    "        #print(f'F_0: {F_0}')\n",
    "        #print(f'F_neg_1: {F_neg_1}')\n",
    "        \n",
    "        outward_numerator = u_0*(2 + (5/6)*(h**2)*F_0) - u_neg_1*(1 - (1/12)*(h**2)*F_neg_1)\n",
    "        outward_denominator = (1 - (1/12)*(h**2)*F_1)\n",
    "        next_step = outward_numerator/outward_denominator\n",
    "        u[i+1] = next_step\n",
    "        \n",
    "        #print(f'outward_numerator: {outward_numerator}')\n",
    "        #print(f'outward_denominator: {outward_denominator}')\n",
    "        #print(f'next_step: {next_step}')\n",
    "\n",
    "    if revese:\n",
    "        return u[::-1]\n",
    "\n",
    "    else:\n",
    "        return u\n"
   ],
   "metadata": {
    "pycharm": {
     "metadata": false,
     "name": "#%%\n",
     "is_executing": false
    }
   }
  },
  {
   "cell_type": "code",
   "execution_count": null,
   "outputs": [],
   "source": [
    "# Declaring constants\n",
    "\n",
    "# Grid in fm\n",
    "rmax = 10.0\n",
    "# Number of steps\n",
    "N = 10000\n",
    "# Step lengt\n",
    "h = rmax / N\n",
    "\n",
    "print(f'Steplengt: {h}')\n",
    "\n",
    "# Init grid and potential V(r) for every r\n",
    "# OBS: Never use 0\n",
    "r = np.linspace(10.**-16, rmax, num=(N))\n",
    "Vr = populate_Vr(np.zeros(N))\n",
    "u = np.zeros(N)\n"
   ],
   "metadata": {
    "pycharm": {
     "metadata": false,
     "name": "#%%\n"
    }
   }
  },
  {
   "cell_type": "code",
   "execution_count": 16,
   "outputs": [
    {
     "name": "stdout",
     "text": [
      "Steplengt: 0.001\n-69.53668344812611\n"
     ],
     "output_type": "stream"
    },
    {
     "data": {
      "text/plain": "[<matplotlib.lines.Line2D at 0x1179c7a20>]"
     },
     "metadata": {},
     "output_type": "execute_result",
     "execution_count": 16
    },
    {
     "data": {
      "text/plain": "<matplotlib.figure.Figure at 0x115713d68>",
      "image/png": "[encoded data removed]"
     },
     "metadata": {
      "needs_background": "light"
     },
     "output_type": "display_data"
    }
   ],
   "source": [
    "\n",
    "# Declaring constants\n",
    "\n",
    "# Grid in fm\n",
    "rmax = 10.0\n",
    "# Number of steps\n",
    "N = 10000\n",
    "# Step lengt\n",
    "h = rmax / N\n",
    "\n",
    "print(f'Steplengt: {h}')\n",
    "\n",
    "# Init grid and potential V(r) for every r\n",
    "# OBS: Never use 0\n",
    "r = np.linspace(10.**-16, rmax, num=N)\n",
    "\n",
    "u = np.zeros(N)\n",
    "Vr = populate_Vr(np.zeros(N), r)\n",
    "\n",
    "print(min(Vr))\n",
    "\n",
    "plt.plot([i for i in range(1,2000)] ,Vr[1:2000])\n",
    "\n",
    "# Vector Vr is tested and looks good. populate_Vr working as expected. \n"
   ],
   "metadata": {
    "pycharm": {
     "metadata": false,
     "name": "#%%\n",
     "is_executing": false
    }
   }
  },
  {
   "cell_type": "code",
   "execution_count": 19,
   "outputs": [
    {
     "name": "stdout",
     "text": [
      "-1.6237022256376255\n"
     ],
     "output_type": "stream"
    },
    {
     "data": {
      "text/plain": "[<matplotlib.lines.Line2D at 0x117e5ea58>]"
     },
     "metadata": {},
     "output_type": "execute_result",
     "execution_count": 19
    },
    {
     "data": {
      "text/plain": "<matplotlib.figure.Figure at 0x117bc2668>",
      "image/png": "[encoded data removed]"
     },
     "metadata": {
      "needs_background": "light"
     },
     "output_type": "display_data"
    }
   ],
   "source": [
    "\n",
    "\n",
    "Emin = min(Vr)\n",
    "Emax = 0.0\n",
    "E = -2.2#0.5 * (Emin+Emax)\n",
    "max_iter = 1# TODO:\n",
    "continuity_epsilon = 1# TODO:\n",
    "\n",
    "rmp_index = 1000\n",
    "\n",
    "Fvec = populate_Fvec(np.zeros(N), Vr, E)\n",
    "\n",
    "print(min(Fvec))\n",
    "\n",
    "plt.plot(Fvec)\n",
    "\n",
    "# Vector Fvec new tested and correct. \n"
   ],
   "metadata": {
    "pycharm": {
     "metadata": false,
     "name": "#%%\n",
     "is_executing": false
    }
   }
  },
  {
   "cell_type": "code",
   "execution_count": 130,
   "outputs": [
    {
     "name": "stdout",
     "text": [
      "[0.         0.         0.         ... 0.00200004 0.001      0.        ]\n[0.         0.001      0.00200004 ... 0.         0.         0.        ]\n"
     ],
     "output_type": "stream"
    },
    {
     "data": {
      "text/plain": "<matplotlib.figure.Figure at 0x11981e2e8>",
      "image/png": "[encoded data removed]"
     },
     "metadata": {
      "needs_background": "light"
     },
     "output_type": "display_data"
    }
   ],
   "source": [
    "\n",
    "rmp_index = 1000\n",
    "\n",
    "u_outer = numerov(np.zeros(N), Fvec, 0, h**1, rmp_index, h)\n",
    "#plt.plot(u_outer)\n",
    "\n",
    "u_inner = numerov(np.zeros(N), Fvec, 0, h**1, (N - rmp_index - 2), h, revese=True)\n",
    "plt.plot(u_inner)\n",
    "\n",
    "\n",
    "print(u_inner)\n",
    "print(u_outer)\n",
    "\n"
   ],
   "metadata": {
    "pycharm": {
     "metadata": false,
     "name": "#%%\n",
     "is_executing": false
    }
   }
  },
  {
   "cell_type": "code",
   "execution_count": 131,
   "outputs": [
    {
     "name": "stdout",
     "text": [
      "[0.         0.001      0.00200004 ... 0.00200004 0.001      0.        ]\n"
     ],
     "output_type": "stream"
    },
    {
     "data": {
      "text/plain": "<matplotlib.figure.Figure at 0x119a96390>",
      "image/png": "[encoded data removed]"
     },
     "metadata": {
      "needs_background": "light"
     },
     "output_type": "display_data"
    }
   ],
   "source": [
    "u_in_mp = u_inner[rmp_index+1]\n",
    "u_out_mp = u_outer[rmp_index]\n",
    "    \n",
    "# Scaling factor between ingoing and outgoing wave function\n",
    "scalefactor = u_out_mp/u_in_mp\n",
    "\n",
    "plt.plot((scalefactor*u_inner+u_outer))\n",
    "\n",
    "\n",
    "print(u_inner+u_outer)\n",
    "\n",
    "# numerov are now tested"
   ],
   "metadata": {
    "pycharm": {
     "metadata": false,
     "name": "#%%\n",
     "is_executing": false
    }
   }
  },
  {
   "cell_type": "code",
   "execution_count": 132,
   "outputs": [
    {
     "name": "stdout",
     "text": [
      "0.0010591348464927819\n"
     ],
     "output_type": "stream"
    }
   ],
   "source": [
    "\n",
    "rmp_index = 1000\n",
    "\n",
    "# Init outward integrated wave function\n",
    "u_outer = numerov(np.zeros(N), Fvec, 0, h**1, rmp_index, h)\n",
    "u_out_mp = u[rmp_index]\n",
    "\n",
    "\n",
    "# Init inward integrated wave function\n",
    "u_inner = numerov(np.zeros(N), Fvec, 0, h**1, (N - rmp_index - 2), h, revese=True)\n",
    "u_in_mp = u[rmp_index+1]\n",
    "\n",
    "# Scaling factor between ingoing and outgoing wave function\n",
    "scalefactor = u_out_mp/u_in_mp\n",
    "    \n",
    "# Match the height and create the full vector u\n",
    "u = u_outer + scalefactor * u_inner\n",
    "\n",
    "\n",
    "# Calculate the discontinuity of the derivitiv of mp\n",
    "# TODO: Figure out if i need the index here of the value of r?\n",
    "matching_numerator = (u[rmp_index]-h)+(u[rmp_index]+h) - u[rmp_index]*(2 + (h**2)*Fvec[rmp_index])\n",
    "matching_denominator = h\n",
    "matching = matching_numerator / matching_denominator\n",
    "\n",
    "print(matching)\n"
   ],
   "metadata": {
    "pycharm": {
     "metadata": false,
     "name": "#%% \n",
     "is_executing": false
    }
   }
  },
  {
   "cell_type": "code",
   "execution_count": 135,
   "outputs": [],
   "source": [
    "# Set important parameters\n",
    "# Guessing whatever was meintioned in the exercise\n",
    "Emin = min(Vr)\n",
    "Emax = 0.0\n",
    "E = 0.5 * (Emin+Emax)\n",
    "max_iter = 10000# TODO:\n",
    "continuity_tolerance = 0.0001# TODO:"
   ],
   "metadata": {
    "pycharm": {
     "metadata": false,
     "name": "#%%\n",
     "is_executing": false
    }
   }
  },
  {
   "cell_type": "code",
   "execution_count": 55,
   "outputs": [
    {
     "name": "stdout",
     "text": [
      "Steplengt: 0.001\nMatch r=2.5001250062503124\n",
      "Match r=2.5001250062503124\nMatch r=2.5001250062503124\nMatch r=2.5001250062503124\n",
      "Match r=2.5001250062503124\nMatch r=2.5001250062503124\nMatch r=2.5001250062503124\n",
      "Match r=2.5001250062503124\nMatch r=2.5001250062503124\nMatch r=2.5001250062503124\n",
      "Match r=2.5001250062503124\nMatch r=2.5001250062503124\nMatch r=2.5001250062503124\n",
      "Match r=2.5001250062503124\nMatch r=2.5001250062503124\nMatch r=2.5001250062503124\n",
      "Match r=2.5001250062503124\nMatch r=2.5001250062503124\nMatch r=2.5001250062503124\n",
      "Match r=2.5001250062503124\nMatch r=2.5001250062503124\nMatch r=2.5001250062503124\n",
      "Match r=2.5001250062503124\nMatch r=2.5001250062503124\nMatch r=2.5001250062503124\n",
      "Match r=2.5001250062503124\nMatch r=2.5001250062503124\nMatch r=2.5001250062503124\n",
      "Match r=2.5001250062503124\nMatch r=2.5001250062503124\nMatch r=2.5001250062503124\n",
      "Match r=2.5001250062503124\nMatch r=2.5001250062503124\nMatch r=2.5001250062503124\n",
      "Match r=2.5001250062503124\nMatch r=2.5001250062503124\nMatch r=2.5001250062503124\n",
      "Match r=2.5001250062503124\nMatch r=2.5001250062503124\nMatch r=2.5001250062503124\n",
      "Match r=2.5001250062503124\nMatch r=2.5001250062503124\nMatch r=2.5001250062503124\n",
      "Match r=2.5001250062503124\nMatch r=2.5001250062503124\nMatch r=2.5001250062503124\n",
      "Match r=2.5001250062503124\nMatch r=2.5001250062503124\nMatch r=2.5001250062503124\n",
      "Match r=2.5001250062503124\nMatch r=2.5001250062503124\nMatch r=2.5001250062503124\n",
      "Match r=2.5001250062503124\nMatch r=2.5001250062503124\nMatch r=2.5001250062503124\n",
      "Match r=2.5001250062503124\nMatch r=2.5001250062503124\nMatch r=2.5001250062503124\n",
      "Match r=2.5001250062503124\nMatch r=2.5001250062503124\nMatch r=2.5001250062503124\n",
      "Match r=2.5001250062503124\nMatch r=2.5001250062503124\nMatch r=2.5001250062503124\n",
      "Match r=2.5001250062503124\nMatch r=2.5001250062503124\nMatch r=2.5001250062503124\n",
      "Match r=2.5001250062503124\nMatch r=2.5001250062503124\nMatch r=2.5001250062503124\n",
      "Match r=2.5001250062503124\nMatch r=2.5001250062503124\nMatch r=2.5001250062503124\n",
      "Match r=2.5001250062503124\nMatch r=2.5001250062503124\nMatch r=2.5001250062503124\n",
      "Match r=2.5001250062503124\nMatch r=2.5001250062503124\nMatch r=2.5001250062503124\n",
      "Match r=2.5001250062503124\nMatch r=2.5001250062503124\nMatch r=2.5001250062503124\n",
      "Match r=2.5001250062503124\nMatch r=2.5001250062503124\nMatch r=2.5001250062503124\n",
      "Match r=2.5001250062503124\nMatch r=2.5001250062503124\nMatch r=2.5001250062503124\n",
      "Match r=2.5001250062503124\nMatch r=2.5001250062503124\nMatch r=2.5001250062503124\n",
      "Match r=2.5001250062503124\nMatch r=2.5001250062503124\nMatch r=2.5001250062503124\n",
      "Match r=2.5001250062503124\nMatch r=2.5001250062503124\nMatch r=2.5001250062503124\n",
      "Match r=2.5001250062503124\nMatch r=2.5001250062503124\nMatch r=2.5001250062503124\n",
      "Testing\nVariable name:E, Value:-69.53667143456792\nVariable name:continuity_tolerance, Value:0.001\nVariable name:matching, Value:11.084779910900622\n"
     ],
     "output_type": "stream"
    },
    {
     "data": {
      "text/plain": "[<matplotlib.lines.Line2D at 0x11d20fa58>]"
     },
     "metadata": {},
     "output_type": "execute_result",
     "execution_count": 55
    },
    {
     "data": {
      "text/plain": "<matplotlib.figure.Figure at 0x11cfa1240>",
      "image/png": "[encoded data removed]"
     },
     "metadata": {
      "needs_background": "light"
     },
     "output_type": "display_data"
    }
   ],
   "source": [
    "\n",
    "# Declaring constants\n",
    "\n",
    "# Grid in fm\n",
    "r_max = 20.0\n",
    "# Number of steps\n",
    "N = 20000\n",
    "# Step lengt\n",
    "h = r_max / N\n",
    "\n",
    "print(f'Steplengt: {h}')\n",
    "\n",
    "# Init grid and potential V(r) for every r\n",
    "# OBS: Never use 0\n",
    "r = np.linspace(10.**-16, r_max, num=N)\n",
    "Vr = populate_Vr(np.zeros(N), r)\n",
    "u = np.zeros(N)\n",
    "df = pd.DataFrame()\n",
    "\n",
    "# Set important parameters\n",
    "# Guessing whatever was meintioned in the exercise\n",
    "Emin = min(Vr)\n",
    "Emax = 0.0\n",
    "E = 0.5 * (Emin+Emax)\n",
    "max_iter = 100\n",
    "continuity_tolerance = 0.001\n",
    "rmp_index = 2500\n",
    "\n"
   ],
   "metadata": {
    "pycharm": {
     "metadata": false,
     "name": "#%%\n",
     "is_executing": false
    }
   }
  }
 ],
 "metadata": {
  "language_info": {
   "codemirror_mode": {
    "name": "ipython",
    "version": 2
   },
   "file_extension": ".py",
   "mimetype": "text/x-python",
   "name": "python",
   "nbconvert_exporter": "python",
   "pygments_lexer": "ipython2",
   "version": "2.7.6"
  },
  "kernelspec": {
   "name": "python3",
   "language": "python",
   "display_name": "Python 3"
  },
  "stem_cell": {
   "cell_type": "raw",
   "source": "",
   "metadata": {
    "pycharm": {
     "metadata": false
    }
   }
  },
  "pycharm": {
   "stem_cell": {
    "cell_type": "raw",
    "source": [],
    "metadata": {
     "collapsed": false
    }
   }
  }
 },
 "nbformat": 4,
 "nbformat_minor": 0
}