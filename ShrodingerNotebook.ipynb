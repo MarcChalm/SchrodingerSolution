{
 "cells": [
  {
   "cell_type": "code",
   "execution_count": 1,
   "metadata": {
    "collapsed": true,
    "pycharm": {
     "is_executing": false
    }
   },
   "outputs": [],
   "source": [
    "import numpy as np\n",
    "import pandas as pd\n",
    "import matplotlib.pyplot as plt\n",
    "import matplotlib2tikz\n",
    "import matplotlib.patches as mpatches\n"
   ]
  },
  {
   "cell_type": "code",
   "execution_count": 2,
   "outputs": [],
   "source": [
    "\n",
    "# Simple debugger\n",
    "\n",
    "def debugger(list_of_variables, list_of_variable_names):\n",
    "\n",
    "    for i in range(len(list_of_variables)):\n",
    "\n",
    "        variable_value = list_of_variables[i]\n",
    "        variable_name = list_of_variable_names[i]\n",
    "\n",
    "        print(f'Variable name:{variable_name}, Value:{variable_value}')"
   ],
   "metadata": {
    "pycharm": {
     "metadata": false,
     "name": "#%% \n",
     "is_executing": false
    }
   }
  },
  {
   "cell_type": "code",
   "execution_count": 3,
   "outputs": [],
   "source": [
    "\n",
    "# Defining Malfliet-Tjon potential\n",
    "\n",
    "def potential_V(r):\n",
    "    \n",
    "    # Realistik nukleon-nukleon potential of Malfliet-Tjon type.\n",
    "    # Ref: R. A. Malfliet and J.A. Tjon\n",
    "    # Nuclear Physics A127 (1969) 161-168\n",
    "    \n",
    "    # input: Radius r in 10^-15 m or 1 fm \n",
    "    # Output: Potential V in MeV\n",
    "    \n",
    "    l_1 = -586.04\n",
    "    l_2 = 1458.19\n",
    "    l_3 = -872.15\n",
    "    \n",
    "    mu_1 = 1.55\n",
    "    mu_2 = 3.11\n",
    "    mu_3 = 6.00\n",
    "    \n",
    "    V_1 = l_1*np.exp(-mu_1*r)\n",
    "    V_2 = l_2*np.exp(-mu_2*r)\n",
    "    V_3 = l_3*np.exp(-mu_3*r)\n",
    "    \n",
    "    V = (V_1+V_2+V_3)/r\n",
    "    \n",
    "    return V\n"
   ],
   "metadata": {
    "pycharm": {
     "metadata": false,
     "name": "#%%\n",
     "is_executing": false
    }
   }
  },
  {
   "cell_type": "code",
   "execution_count": 4,
   "outputs": [],
   "source": [
    "\n",
    "# Populating Vr vector\n",
    "def populate_Vr(Vr, r):\n",
    "    \n",
    "    for i in range(Vr.size):\n",
    "    \n",
    "        Vr[i] = potential_V(r[i])\n",
    "\n",
    "    return Vr\n"
   ],
   "metadata": {
    "pycharm": {
     "metadata": false,
     "name": "#%%\n",
     "is_executing": false
    }
   }
  },
  {
   "cell_type": "code",
   "execution_count": 5,
   "outputs": [],
   "source": [
    "\n",
    "# Populating F function vector\n",
    "def populate_Fvec(Fvec, Vr, E):\n",
    "    \n",
    "    # Mass of protron in MeV/c^2\n",
    "    mass_protron = 938.272\n",
    "    # Mass of neutron in MeV/c^2\n",
    "    mass_neutron = 939.565\n",
    "    # Reduced mass of the deutron\n",
    "    my = (mass_protron*mass_neutron) / (mass_protron+mass_neutron)\n",
    "    # hbar*c = 197.327 MeV*fm\n",
    "    hbar = 197.327\n",
    "    # The c cancels out from the MeV/c^2 unit of my\n",
    "    K = 2 * my / hbar**2\n",
    "    \n",
    "    \n",
    "    for i in range(Fvec.size):\n",
    "    \n",
    "        Fvec[i] = K*(Vr[i]-E)\n",
    "    \n",
    "    return Fvec\n",
    "    "
   ],
   "metadata": {
    "pycharm": {
     "metadata": false,
     "name": "#%%\n",
     "is_executing": false
    }
   }
  },
  {
   "cell_type": "code",
   "execution_count": 6,
   "outputs": [],
   "source": [
    "\n",
    "# Numerovs algorithm (Forward/Outer)\n",
    "\n",
    "def numerov_outer(u, Fvec, u_0, u_1, index, steplength):\n",
    "\n",
    "    # Init outward wave function\n",
    "    u[0] = u_0\n",
    "    u[1] = u_1\n",
    "    h = steplength\n",
    "    # Numerov outward\n",
    "    for i in range(1, index):\n",
    "\n",
    "        numerov_numerator = u[i] * (2 + (5 / 6) * (h ** 2) * Fvec[i]) - u[i - 1] * (1 - (1 / 12) * (h ** 2) * Fvec[i - 1])\n",
    "        numerov_denominator = (1 - (1 / 12) * (h ** 2) * Fvec[i + 1])\n",
    "        next_step = numerov_numerator / numerov_denominator\n",
    "        u[i + 1] = next_step\n",
    "\n",
    "    return u\n"
   ],
   "metadata": {
    "pycharm": {
     "metadata": false,
     "name": "#%%\n",
     "is_executing": false
    }
   }
  },
  {
   "cell_type": "code",
   "execution_count": 7,
   "outputs": [],
   "source": [
    "\n",
    "# Numerovs algorithm (Backward/Inner)\n",
    "\n",
    "def numerov_inner(u, Fvec, u_0, u_1, index, steplength):\n",
    "\n",
    "    # Grabbing N from u to keep track of index better\n",
    "    N = u.size\n",
    "    # Init inward wave function\n",
    "    u[N-1] = u_0\n",
    "    u[N-2] = u_1\n",
    "    h = steplength\n",
    "    # Numerov inward\n",
    "    for i in range(N-2, index-1, -1):\n",
    "        \n",
    "        numerov_numerator = u[i] * (2 + (5 / 6) * (h ** 2) * Fvec[i]) - u[i+1]* (1 - (1 / 12) * (h ** 2) * Fvec[i+1])\n",
    "        numerov_denominator = (1 - (1 / 12) * (h ** 2) * Fvec[i-1])\n",
    "        next_step = numerov_numerator / numerov_denominator\n",
    "        u[i-1] = next_step\n",
    "\n",
    "    return u"
   ],
   "metadata": {
    "collapsed": false,
    "pycharm": {
     "name": "#%% \n",
     "is_executing": false
    }
   }
  },
  {
   "cell_type": "code",
   "execution_count": 8,
   "outputs": [],
   "source": [
    "\n",
    "# Calculating wave function u(r)\n",
    "\n",
    "def calc_u(E_values, vectors, iter_variables, rmp_index, df):\n",
    "    \n",
    "    # Unpacking variables\n",
    "    Emin = E_values[0]\n",
    "    Emax = E_values[1]\n",
    "    E = 0.5 * (Emin+Emax)\n",
    "    \n",
    "    Vr = vectors[0]\n",
    "    u = vectors[1]\n",
    "    \n",
    "    max_iter = iter_variables[0]\n",
    "    continuity_tolerance = iter_variables[1]\n",
    "    \n",
    "    for iter in range(max_iter):\n",
    "\n",
    "\n",
    "        # Init Fvec(r)\n",
    "        # This vector is dependent on E\n",
    "        Fvec = populate_Fvec(np.zeros(N), Vr, E)\n",
    "    \n",
    "        # Init outward integrated wave function\n",
    "        u_outer = numerov_outer(np.zeros(N), Fvec, 0, h ** 1, rmp_index, h)\n",
    "        u_out_mp = u_outer[rmp_index]\n",
    "        df['u_outer'] = u_outer\n",
    "    \n",
    "        # Init inward integrated wave function\n",
    "        #u_inner = numerov(np.zeros(N), Fvec, 0, h ** 1, (N - rmp_index - 2), h, revese=True)\n",
    "        u_inner = numerov_inner(np.zeros(N), Fvec, 0, h ** 1, rmp_index+2, h)\n",
    "        u_in_mp = u_inner[rmp_index + 2]\n",
    "        df['u_inner'] = u_inner\n",
    "    \n",
    "        # Scaling factor between ingoing and outgoing wave function\n",
    "        scale_factor = u_out_mp / u_in_mp\n",
    "    \n",
    "        # Match the height and create the full vector u\n",
    "        u = u_outer + scale_factor * u_inner\n",
    "    \n",
    "        df['u'] = u\n",
    "    \n",
    "        # Calculate the discontinuity of the derivative of mp\n",
    "        dx = np.gradient(u, h)\n",
    "        df['dx'] = dx\n",
    "        u_outer_dx = dx[rmp_index]\n",
    "        u_inner_dx = dx[rmp_index + 1]\n",
    "        matching = (u_inner_dx - u_outer_dx)\n",
    "    \n",
    "    \n",
    "        if abs(matching) < continuity_tolerance:\n",
    "            # Break the loop\n",
    "            print('Continuity tolerance achieved!')\n",
    "            break\n",
    "    \n",
    "        if u[rmp_index] * matching > 0:\n",
    "            Emax = E\n",
    "    \n",
    "        if u[rmp_index] * matching < 0:\n",
    "            Emin = E\n",
    "    \n",
    "        # Calculating E for the next iteration.\n",
    "        E = 0.5 * (Emax + Emin)\n",
    "\n",
    "    # Returning function u, bounding energy E and dataframe df for debugging purpose\n",
    "    return [u, E, df]\n"
   ],
   "metadata": {
    "collapsed": false,
    "pycharm": {
     "name": "#%%\n",
     "is_executing": false
    }
   }
  },
  {
   "cell_type": "code",
   "execution_count": 20,
   "outputs": [
    {
     "name": "stdout",
     "text": [
      "------------ Starting run ------------\n----------- with parameters ----------\nVariable name:r_max in fm, Value:20.0\nVariable name:N, Value:20000\nVariable name:h, Value:0.001\nVariable name:Emin in MeV, Value:-69.53667143456794\nVariable name:Emax in MeV, Value:0.0\nVariable name:Maximum iterations, Value:1000\nVariable name:Continuity tolerance, Value:1e-10\nVariable name:rmp_index, Value:1000\n",
      "Continuity tolerance achieved!\n------------- Ending run -------------\n\n-------------- Results ---------------\nBounding energy in MeV, E = -2.22778042914117\nRadius in fm, r_d = 1.945285349027254\n"
     ],
     "output_type": "stream"
    },
    {
     "data": {
      "text/plain": "<matplotlib.figure.Figure at 0x117da4c88>",
      "image/png": "[encoded data removed]"
     },
     "metadata": {
      "needs_background": "light"
     },
     "output_type": "display_data"
    }
   ],
   "source": [
    "\n",
    "# Declaring constants\n",
    "\n",
    "# Grid in fm\n",
    "r_max = 20.0\n",
    "# Number of steps\n",
    "N = 20000\n",
    "# Step lengt\n",
    "h = r_max / N\n",
    "\n",
    "# Init grid and potential V(r) for every r\n",
    "# OBS: Never use 0\n",
    "r = np.linspace(10.**-16, r_max, num=N)\n",
    "Vr = populate_Vr(np.zeros(N), r)\n",
    "u = np.zeros(N)\n",
    "\n",
    "# Init dataframe to debug indexing if necessary\n",
    "df = pd.DataFrame()\n",
    "\n",
    "# Set important parameters\n",
    "Emin = min(Vr)\n",
    "Emax = 0.0\n",
    "E_values = [Emin, Emax]\n",
    "max_iter = 1000\n",
    "continuity_tolerance = 0.0000000001\n",
    "rmp_index = 1000\n",
    "\n",
    "print('------------ Starting run ------------')\n",
    "print('----------- with parameters ----------')\n",
    "run_settings = [r_max, N, h, Emin, Emax, max_iter, continuity_tolerance, rmp_index]\n",
    "debugger(run_settings, ['r_max in fm', 'N', 'h', 'Emin in MeV', 'Emax in MeV', \n",
    "    'Maximum iterations', 'Continuity tolerance', 'rmp_index'])\n",
    "\n",
    "# Calculate u and E with corresonding df\n",
    "results = calc_u([Emin, Emax], [Vr, u], [max_iter, continuity_tolerance], rmp_index, df)\n",
    "print('------------- Ending run -------------')\n",
    "print()\n",
    "\n",
    "# Grabbing the results\n",
    "u = results[0]\n",
    "E = results[1]\n",
    "df = results[2]\n",
    "\n",
    "print('-------------- Results ---------------')\n",
    "# Normalize the function so that the integral of u(r)^2 = 1\n",
    "u_norm = u / np.linalg.norm(u)\n",
    "# Calculate the value for r_d\n",
    "r_d = np.sqrt(np.trapz(u_norm*u_norm*r*r) / 4)\n",
    "print(f'Bounding energy in MeV, E = {E}')\n",
    "print(f'Radius in fm, r_d = {r_d}')\n",
    "\n",
    "# Plotting the function\n",
    "plt.plot(r, u_norm*(0.54/0.0170))\n",
    "plt.title('Vågfunktion u(r)')\n",
    "plt.xlabel('r [fm]')\n",
    "plt.ylabel('u(r) [1/√fm]')\n",
    "\n",
    "plt.rcParams.update({'font.size': 16})\n",
    "\n",
    "#plt.show()\n",
    "\n",
    "plt.savefig('u_r.png', bbox_inches='tight')\n",
    "\n",
    "matplotlib2tikz.save('u_r.tikz')\n"
   ],
   "metadata": {
    "pycharm": {
     "metadata": false,
     "name": "#%%\n",
     "is_executing": false
    }
   }
  },
  {
   "cell_type": "code",
   "execution_count": 19,
   "outputs": [
    {
     "data": {
      "text/plain": "<matplotlib.figure.Figure at 0x117c62278>",
      "image/png": "[encoded data removed]"
     },
     "metadata": {
      "needs_background": "light"
     },
     "output_type": "display_data"
    }
   ],
   "source": [
    "\n",
    "# Plotting the function\n",
    "plt.plot(r, Vr)\n",
    "plt.axis([0, 4, -90, 100])\n",
    "plt.title('Malfliet-Tjon potentialen V(r)')\n",
    "plt.xlabel('r [fm]')\n",
    "plt.ylabel('V(r) [MeV]')\n",
    "\n",
    "blue_patch = mpatches.Patch(color='blue', label='Malfliet-Tjon')\n",
    "plt.legend(handles=[blue_patch],bbox_to_anchor=(0.75, 0.9), loc='center', ncol=1)\n",
    "\n",
    "#plt.show()\n",
    "\n",
    "plt.rcParams.update({'font.size': 14})\n",
    "\n",
    "plt.savefig('V_r.png', bbox_inches='tight')\n",
    "\n",
    "matplotlib2tikz.save('V_r.tikz')"
   ],
   "metadata": {
    "collapsed": false,
    "pycharm": {
     "name": "#%%\n",
     "is_executing": false
    }
   }
  },
  {
   "cell_type": "code",
   "execution_count": null,
   "outputs": [],
   "source": [
    "\n"
   ],
   "metadata": {
    "collapsed": false,
    "pycharm": {
     "name": "#%%\n"
    }
   }
  }
 ],
 "metadata": {
  "language_info": {
   "codemirror_mode": {
    "name": "ipython",
    "version": 2
   },
   "file_extension": ".py",
   "mimetype": "text/x-python",
   "name": "python",
   "nbconvert_exporter": "python",
   "pygments_lexer": "ipython2",
   "version": "2.7.6"
  },
  "kernelspec": {
   "name": "python3",
   "language": "python",
   "display_name": "Python 3"
  },
  "stem_cell": {
   "cell_type": "raw",
   "source": "",
   "metadata": {
    "pycharm": {
     "metadata": false
    }
   }
  },
  "pycharm": {
   "stem_cell": {
    "cell_type": "raw",
    "source": [],
    "metadata": {
     "collapsed": false
    }
   }
  }
 },
 "nbformat": 4,
 "nbformat_minor": 0
}