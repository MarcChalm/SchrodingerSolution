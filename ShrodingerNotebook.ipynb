{
  "cells": [
    {
      "cell_type": "code",
      "execution_count": 69,
      "metadata": {
        "collapsed": true,
        "pycharm": {
          "is_executing": false
        }
      },
      "outputs": [],
      "source": "import numpy as np\nimport matplotlib as mpl\nimport matplotlib.pyplot as plt\nimport pandas as pd\n"
    },
    {
      "cell_type": "code",
      "execution_count": 70,
      "outputs": [],
      "source": "\n# Defining Malfliet-Tjon potential\n\ndef potential_V(r):\n    \n    # Realistik nukleon-nukleon potential of Malfliet-Tjon type.\n    # Ref: R. A. Malfliet and J.A. Tjon\n    # Nuclear Physics A127 (1969) 161-168\n    \n    # input: Radius r in 10^-15 m or 1 fm \n    # Output: Potential V in MeV\n    \n    \n    l_1 \u003d -586.04\n    l_2 \u003d 1458.19\n    l_3 \u003d -872.15\n    \n    mu_1 \u003d 1.55\n    mu_2 \u003d 3.11\n    mu_3 \u003d 6.00\n    \n    V_1 \u003d l_1*np.exp(-mu_1*r)\n    V_2 \u003d l_2*np.exp(-mu_2*r)\n    V_3 \u003d l_3*np.exp(-mu_3*r)\n    \n    V \u003d (V_1+V_2+V_3)/r\n    \n    return V\n\n",
      "metadata": {
        "pycharm": {
          "metadata": false,
          "name": "#%%\n",
          "is_executing": false
        }
      }
    },
    {
      "cell_type": "code",
      "execution_count": 76,
      "outputs": [],
      "source": "\n# Populating Vr vector\ndef populate_Vr(Vr):\n    \n    for i in range(Vr.size):\n    \n        Vr[i] \u003d potential_V(r[i])\n\n    return Vr\n",
      "metadata": {
        "pycharm": {
          "metadata": false,
          "name": "#%%\n",
          "is_executing": false
        }
      }
    },
    {
      "cell_type": "code",
      "execution_count": 98,
      "outputs": [],
      "source": "def populate_Fvec(Fvec, Vr, E):\n    \n    # Mass of protron in MeV/c^2\n    mass_protron \u003d 938.272\n    # Mass of neutron in MeV/c^2\n    mass_neutron \u003d 939.565\n    # Reduced mass of the deutron\n    my \u003d (mass_protron*mass_neutron) / (mass_protron+mass_neutron)\n    # hbar*c \u003d 197.327 MeV*fm\n    hbar \u003d 197.327\n    # The c cancels out from the MeV/c^2 unit of my\n    K \u003d 2 * my / hbar**2\n    \n    \n    for i in range(Fvec.size):\n    \n        Fvec[i] \u003d K*(Vr[i]-E)\n    \n    return Fvec\n    ",
      "metadata": {
        "pycharm": {
          "metadata": false,
          "name": "#%%\n",
          "is_executing": false
        }
      }
    },
    {
      "cell_type": "code",
      "execution_count": 127,
      "outputs": [],
      "source": "\ndef numerov(u, Fvec, u_0, u_1, index, steplength, revese\u003dFalse):\n    \n    #TODO: Python magic? Revers the u vector, calculate and revers back? \n    \n    if revese:\n        u \u003d u[::-1]\n    \n    # Init outward integrated wave function\n    u[0] \u003d u_0\n    u[1] \u003d u_1\n    h \u003d steplength\n    # Numverov outward\n    for i in range(1,index):\n        \n        u_0 \u003d u[i]\n        u_neg_1 \u003d u[i-1]\n        \n        F_1 \u003d Fvec[i+1]\n        F_0 \u003d Fvec[i]\n        F_neg_1 \u003d Fvec[i-1]\n        \n        \n        \n        #print(\u0027Debugger\u0027)\n        #print(f\u0027u_0: {u_0}\u0027)\n        #print(f\u0027u_neg_1: {u_neg_1}\u0027)\n        #print(f\u0027F_1: {F_1}\u0027)\n        #print(f\u0027F_0: {F_0}\u0027)\n        #print(f\u0027F_neg_1: {F_neg_1}\u0027)\n        \n        outward_numerator \u003d u_0*(2 + (5/6)*(h**2)*F_0) - u_neg_1*(1 - (1/12)*(h**2)*F_neg_1)\n        outward_denominator \u003d (1 - (1/12)*(h**2)*F_1)\n        next_step \u003d outward_numerator/outward_denominator\n        u[i+1] \u003d next_step\n        \n        #print(f\u0027outward_numerator: {outward_numerator}\u0027)\n        #print(f\u0027outward_denominator: {outward_denominator}\u0027)\n        #print(f\u0027next_step: {next_step}\u0027)\n\n    if revese:\n        return u[::-1]\n\n    else:\n        return u\n",
      "metadata": {
        "pycharm": {
          "metadata": false,
          "name": "#%%\n",
          "is_executing": false
        }
      }
    },
    {
      "cell_type": "code",
      "execution_count": null,
      "outputs": [],
      "source": "# Declaring constants\n\n# Grid in fm\nrmax \u003d 10.0\n# Number of steps\nN \u003d 10000\n# Step lengt\nh \u003d rmax / N\n\nprint(f\u0027Steplengt: {h}\u0027)\n\n# Init grid and potential V(r) for every r\n# OBS: Never use 0\nr \u003d np.linspace(10.**-16, rmax, num\u003d(N))\nVr \u003d populate_Vr(np.zeros(N))\nu \u003d np.zeros(N)\n",
      "metadata": {
        "pycharm": {
          "metadata": false,
          "name": "#%%\n"
        }
      }
    },
    {
      "cell_type": "code",
      "execution_count": 49,
      "outputs": [],
      "source": "\n# Set important parameters\n# Guessing whatever was meintioned in the exercise\nEmin \u003d min(Vr)\nEmax \u003d 0.0\nE \u003d 0.5 * (Emin+Emax)\nmax_iter \u003d 10000# TODO:\ncontinuity_tolerance \u003d 0.000001# TODO:\n",
      "metadata": {
        "pycharm": {
          "metadata": false,
          "name": "#%%\n",
          "is_executing": false
        }
      }
    },
    {
      "cell_type": "code",
      "execution_count": 133,
      "outputs": [
        {
          "name": "stdout",
          "text": [
            "Match r\u003d1.000100010001\n"
          ],
          "output_type": "stream"
        },
        {
          "traceback": [
            "\u001b[0;31m---------------------------------------------------------------------------\u001b[0m",
            "\u001b[0;31mNameError\u001b[0m                                 Traceback (most recent call last)",
            "\u001b[0;32m\u003cipython-input-133-464411f5a768\u003e\u001b[0m in \u001b[0;36m\u003cmodule\u003e\u001b[0;34m\u001b[0m\n\u001b[1;32m     38\u001b[0m     \u001b[0mmatching\u001b[0m \u001b[0;34m\u003d\u001b[0m \u001b[0mmatching_numerator\u001b[0m \u001b[0;34m/\u001b[0m \u001b[0mmatching_denominator\u001b[0m\u001b[0;34m\u001b[0m\u001b[0m\n\u001b[1;32m     39\u001b[0m \u001b[0;34m\u001b[0m\u001b[0m\n\u001b[0;32m---\u003e 40\u001b[0;31m     \u001b[0;32mif\u001b[0m \u001b[0mmatching\u001b[0m \u001b[0;34m\u003c\u001b[0m \u001b[0mcontinuity_tolerance\u001b[0m\u001b[0;34m:\u001b[0m\u001b[0;34m\u001b[0m\u001b[0m\n\u001b[0m\u001b[1;32m     41\u001b[0m         \u001b[0;31m# Break the loop\u001b[0m\u001b[0;34m\u001b[0m\u001b[0;34m\u001b[0m\u001b[0m\n\u001b[1;32m     42\u001b[0m         \u001b[0;32mbreak\u001b[0m\u001b[0;34m\u001b[0m\u001b[0m\n",
            "\u001b[0;31mNameError\u001b[0m: name \u0027continuity_tolerance\u0027 is not defined"
          ],
          "ename": "NameError",
          "evalue": "name \u0027continuity_tolerance\u0027 is not defined",
          "output_type": "error"
        }
      ],
      "source": "\n# Itterate over the energi E\n\nfor iter in range(max_iter):\n    \n    # Init Fvec(r) \n    # TODO: Write down equation\n    # This vector is dependent on E\n    Fvec \u003d populate_Fvec(np.zeros(N), Vr, E)\n        \n    # Choose matching point (equvivalent grid index)\n    # In exercise suggested to start at 1fm\n    rmp_index \u003d 1000\n   \n        \n    print(f\u0027Match r\u003d{r[rmp_index]}\u0027)\n    \n    # Init outward integrated wave function\n    u_outer \u003d numerov(np.zeros(N), Fvec, 0, h**1, rmp_index, h)\n    u_out_mp \u003d u[rmp_index]\n\n\n    # Init inward integrated wave function\n    u_inner \u003d numerov(np.zeros(N), Fvec, 0, h**1, (N - rmp_index - 2), h, revese\u003dTrue)\n    u_in_mp \u003d u[rmp_index+1]\n\n    # Scaling factor between ingoing and outgoing wave function\n    scalefactor \u003d u_out_mp/u_in_mp\n    \n    # Match the height and create the full vector u\n    u \u003d u_outer + scalefactor * u_inner\n    \n    \n    # Calculate the discontinuity of the derivitiv of mp\n    # TODO: Figure out if i need the index here of the value of r?\n    matching_numerator \u003d (u[rmp_index]-h)+(u[rmp_index]+h) - u[rmp_index]*(2 + (h**2)*Fvec[rmp_index])\n    matching_denominator \u003d h\n    matching \u003d matching_numerator / matching_denominator\n    \n    if matching \u003c continuity_tolerance:\n        # Break the loop \n        break\n    \n    if u(rmp_index)*matching \u003e 0:\n        \n        Emax \u003d E\n        \n    if u(rmp_index)*matching \u003c 0:\n        \n        Emin \u003d E\n    \n    E \u003d 0.5 (Emax+Emin)\n    ",
      "metadata": {
        "pycharm": {
          "metadata": false,
          "name": "#%%\n",
          "is_executing": false
        }
      }
    },
    {
      "cell_type": "code",
      "execution_count": null,
      "outputs": [],
      "source": "\n# After the code works:\n# 1. Normalize the function so that the integral \u003d 1\n# 2. Calculate the observed radius in fm\n# 3. Plot the wave function u(r)\n# 4. Analyse the results \n",
      "metadata": {
        "pycharm": {
          "metadata": false,
          "name": "#%%\n"
        }
      }
    },
    {
      "cell_type": "code",
      "execution_count": 33,
      "outputs": [],
      "source": "rmp_index \u003d 0\nfor i in range(r.size):\n    if r[i] \u003d\u003d 10.**-15:\n        rmp_index \u003d i",
      "metadata": {
        "pycharm": {
          "metadata": false,
          "name": "#%% \n",
          "is_executing": false
        }
      }
    },
    {
      "cell_type": "code",
      "execution_count": 78,
      "outputs": [
        {
          "name": "stdout",
          "text": [
            "Steplengt: 0.001\n[ 2.27373675e+03  1.59696378e+03  1.58768512e+03 ... -1.09092761e-05\n -1.08912886e-05 -1.08733310e-05]\n"
          ],
          "output_type": "stream"
        },
        {
          "data": {
            "text/plain": "[\u003cmatplotlib.lines.Line2D at 0x1176b51d0\u003e]"
          },
          "metadata": {},
          "output_type": "execute_result",
          "execution_count": 78
        },
        {
          "data": {
            "text/plain": "\u003cmatplotlib.figure.Figure at 0x117608ba8\u003e",
            "image/png": "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\u003d\n"
          },
          "metadata": {
            "needs_background": "light"
          },
          "output_type": "display_data"
        }
      ],
      "source": "\n# Declaring constants\n\n# Grid in fm\nrmax \u003d 10.0\n# Number of steps\nN \u003d 10000\n# Step lengt\nh \u003d rmax / N\n\nprint(f\u0027Steplengt: {h}\u0027)\n\n# Init grid and potential V(r) for every r\n# OBS: Never use 0\nr \u003d np.linspace(10.**-16, rmax, num\u003d(N))\n\nu \u003d np.zeros(N)\nVr \u003d populate_Vr(np.zeros(N))\n\nprint(Vr)\n\nplt.plot(Vr)\n\n# Vector Vr is tested and looks good. populate_Vr working as expected. \n",
      "metadata": {
        "pycharm": {
          "metadata": false,
          "name": "#%%\n",
          "is_executing": false
        }
      }
    },
    {
      "cell_type": "code",
      "execution_count": 99,
      "outputs": [
        {
          "name": "stdout",
          "text": [
            "[55.66542144 39.34626624 39.12252816 ...  0.83837536  0.83837536\n  0.83837536]\n"
          ],
          "output_type": "stream"
        },
        {
          "data": {
            "text/plain": "[\u003cmatplotlib.lines.Line2D at 0x1181a3e48\u003e]"
          },
          "metadata": {},
          "output_type": "execute_result",
          "execution_count": 99
        },
        {
          "data": {
            "text/plain": "\u003cmatplotlib.figure.Figure at 0x11805f400\u003e",
            "image/png": "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\u003d\u003d\n"
          },
          "metadata": {
            "needs_background": "light"
          },
          "output_type": "display_data"
        }
      ],
      "source": "\n\nEmin \u003d min(Vr)\nEmax \u003d 0.0\nE \u003d 0.5 * (Emin+Emax)\nmax_iter \u003d 1# TODO:\ncontinuity_epsilon \u003d 1# TODO:\n\nrmp_index \u003d 1000\n\nFvec \u003d populate_Fvec(np.zeros(N), Vr, E)\n\nprint(Fvec)\n\nplt.plot(Fvec)\n\n# Vector Fvec new tested and correct. \n",
      "metadata": {
        "pycharm": {
          "metadata": false,
          "name": "#%%\n",
          "is_executing": false
        }
      }
    },
    {
      "cell_type": "code",
      "execution_count": 130,
      "outputs": [
        {
          "name": "stdout",
          "text": [
            "[0.         0.         0.         ... 0.00200004 0.001      0.        ]\n[0.         0.001      0.00200004 ... 0.         0.         0.        ]\n"
          ],
          "output_type": "stream"
        },
        {
          "data": {
            "text/plain": "\u003cmatplotlib.figure.Figure at 0x11981e2e8\u003e",
            "image/png": "[encoded data removed]"
          },
          "metadata": {
            "needs_background": "light"
          },
          "output_type": "display_data"
        }
      ],
      "source": "\nrmp_index \u003d 1000\n\nu_outer \u003d numerov(np.zeros(N), Fvec, 0, h**1, rmp_index, h)\n#plt.plot(u_outer)\n\nu_inner \u003d numerov(np.zeros(N), Fvec, 0, h**1, (N - rmp_index - 2), h, revese\u003dTrue)\nplt.plot(u_inner)\n\n\nprint(u_inner)\nprint(u_outer)\n\n",
      "metadata": {
        "pycharm": {
          "metadata": false,
          "name": "#%%\n",
          "is_executing": false
        }
      }
    },
    {
      "cell_type": "code",
      "execution_count": 131,
      "outputs": [
        {
          "name": "stdout",
          "text": [
            "[0.         0.001      0.00200004 ... 0.00200004 0.001      0.        ]\n"
          ],
          "output_type": "stream"
        },
        {
          "data": {
            "text/plain": "\u003cmatplotlib.figure.Figure at 0x119a96390\u003e",
            "image/png": "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\u003d\u003d\n"
          },
          "metadata": {
            "needs_background": "light"
          },
          "output_type": "display_data"
        }
      ],
      "source": "u_in_mp \u003d u_inner[rmp_index+1]\nu_out_mp \u003d u_outer[rmp_index]\n    \n# Scaling factor between ingoing and outgoing wave function\nscalefactor \u003d u_out_mp/u_in_mp\n\nplt.plot((scalefactor*u_inner+u_outer))\n\n\nprint(u_inner+u_outer)\n\n# numerov are now tested",
      "metadata": {
        "pycharm": {
          "metadata": false,
          "name": "#%%\n",
          "is_executing": false
        }
      }
    },
    {
      "cell_type": "code",
      "execution_count": 132,
      "outputs": [
        {
          "name": "stdout",
          "text": [
            "0.0010591348464927819\n"
          ],
          "output_type": "stream"
        }
      ],
      "source": "\nrmp_index \u003d 1000\n\n# Init outward integrated wave function\nu_outer \u003d numerov(np.zeros(N), Fvec, 0, h**1, rmp_index, h)\nu_out_mp \u003d u[rmp_index]\n\n\n# Init inward integrated wave function\nu_inner \u003d numerov(np.zeros(N), Fvec, 0, h**1, (N - rmp_index - 2), h, revese\u003dTrue)\nu_in_mp \u003d u[rmp_index+1]\n\n# Scaling factor between ingoing and outgoing wave function\nscalefactor \u003d u_out_mp/u_in_mp\n    \n# Match the height and create the full vector u\nu \u003d u_outer + scalefactor * u_inner\n\n\n# Calculate the discontinuity of the derivitiv of mp\n# TODO: Figure out if i need the index here of the value of r?\nmatching_numerator \u003d (u[rmp_index]-h)+(u[rmp_index]+h) - u[rmp_index]*(2 + (h**2)*Fvec[rmp_index])\nmatching_denominator \u003d h\nmatching \u003d matching_numerator / matching_denominator\n\nprint(matching)\n",
      "metadata": {
        "pycharm": {
          "metadata": false,
          "name": "#%% \n",
          "is_executing": false
        }
      }
    },
    {
      "cell_type": "code",
      "execution_count": 135,
      "outputs": [],
      "source": "# Set important parameters\n# Guessing whatever was meintioned in the exercise\nEmin \u003d min(Vr)\nEmax \u003d 0.0\nE \u003d 0.5 * (Emin+Emax)\nmax_iter \u003d 10000# TODO:\ncontinuity_tolerance \u003d 0.000001# TODO:",
      "metadata": {
        "pycharm": {
          "metadata": false,
          "name": "#%%\n",
          "is_executing": false
        }
      }
    },
    {
      "cell_type": "code",
      "execution_count": 146,
      "outputs": [
        {
          "name": "stdout",
          "text": [
            "Match r\u003d0.5000500050005001\nWithin tolerance!\n"
          ],
          "output_type": "stream"
        },
        {
          "data": {
            "text/plain": "[\u003cmatplotlib.lines.Line2D at 0x119a88f28\u003e]"
          },
          "metadata": {},
          "output_type": "execute_result",
          "execution_count": 146
        },
        {
          "data": {
            "text/plain": "\u003cmatplotlib.figure.Figure at 0x119615390\u003e",
            "image/png": "iVBORw0KGgoAAAANSUhEUgAAAYcAAAD8CAYAAACcjGjIAAAABHNCSVQICAgIfAhkiAAAAAlwSFlzAAALEgAACxIB0t1+/AAAIABJREFUeJzt3Xl0XPV99/H3d7Rv1m5hW7JlbGOwIWzCmNCGLTF2lpKe0DxQGkzCUz8tpKdp+zwttH1OTrOck/TpaRoaQkLBiUmTEEoWXOrEcRwgScHGdli8YSxvWF6wbMvyvkj6Pn/MT2aQZGskjXRnRp/XOXPm3t/93Znv1ZX90b33N3fM3REREUkUi7oAERFJPwoHERHpReEgIiK9KBxERKQXhYOIiPSicBARkV4UDiIi0ovCQUREelE4iIhIL7lRFzBYNTU13tjYGHUZIiIZY82aNfvdvTaZvhkbDo2NjaxevTrqMkREMoaZ7Ui2r04riYhILwoHERHpJalwMLPtZrbWzF41s9WhrcrMlpnZ5vBcGdrNzB4ys2Yze93Mrkp4nfmh/2Yzm5/QfnV4/eawrqV6Q0VEJHkDOXK4yd2vcPemMP8AsNzdpwHLwzzAPGBaeCwAHoF4mACfBa4FZgGf7Q6U0OePE9abO+gtEhGRIRvKaaXbgEVhehHw0YT2JzxuBVBhZuOAW4Fl7n7Q3duAZcDcsGyMu6/w+JdLPJHwWiIiEoFkw8GBn5vZGjNbENrq3H1PmN4L1IXpCcDOhHVbQtv52lv6aBcRkYgkO5T1d9x9l5mNBZaZ2RuJC93dzWzYv1IuBNMCgIkTJw7324mIjFpJHTm4+67wvA/4MfFrBm+HU0KE532h+y6gIWH1+tB2vvb6Ptr7quNRd29y96ba2qQ+x5FS63e3s2ZH24i/r4jISOs3HMysxMzKuqeBOcA6YDHQPeJoPvBMmF4M3B1GLc0G2sPpp6XAHDOrDBei5wBLw7LDZjY7jFK6O+G10sqHHvoNH3vkxajLEBEZdsmcVqoDfhxGl+YC33P3n5nZKuApM7sX2AF8PPRfAnwQaAaOA58EcPeDZvZ5YFXo9zl3Pxim7wO+DRQBPw2PtOXuaLStiGSzfsPB3bcCl/fRfgC4pY92B+4/x2stBBb20b4auDSJetPCgWOnqSktiLoMEZFho09ID8LOg8ejLkFEZFgpHAZgfHkhAG8pHEQkyykcBqC+qhiAlrYTEVciIjK8FA4DUJyfA+i0kohkP4XDIOxsUziISHZTOAzCzoM6rSQi2U3hMAi7D52gs2vY7xYiIhIZhcMgdHQ5e9p19CAi2UvhMEgazioi2UzhMEAVxXkAtOi6g4hkMYXDAI0vLyJmGrEkItlN4TBAeTnGuPIifdZBRLKawmEQGqqK2KlPSYtIFlM4DEJDZbGOHEQkqykcBqGhqph9R05x8kxn1KWIiAwLhcMgNFQVAdCii9IikqUUDoMwMdydVZ91EJFspXAYhEnVJQBs369wEJHspHAYhOqSfMoKctl+4FjUpYiIDAuFwyCYGZNqitl+QEcOIpKdFA6D1Fhdwvb9OnIQkeykcBgAT7hLd2N1CS1txznd0RVdQSIiw0ThMFBmADTWlNDlGs4qItlJ4TBIjdXx4aw7dN1BRLKQwmGQGmviw1m36bqDiGQhhcMgVZfkU1qQyw4NZxWRLKRwGCQzo7GmmG06rSQiWUjhMASTqkt05CAiWUnhMASTq0toaTvBmU4NZxWR7KJwGIJJ1cV0djkt+uIfEckyCochmFzTfQM+nVoSkeySdDiYWY6ZvWJmz4b5yWa20syazewHZpYf2gvCfHNY3pjwGg+G9k1mdmtC+9zQ1mxmD6Ru84bX2buz6rqDiGSZgRw5/DmwMWH+y8BX3H0q0AbcG9rvBdpC+1dCP8xsBnAHMBOYC3w9BE4O8DAwD5gB3Bn6pr2a0vhwVh05iEi2SSoczKwe+BDwWJg34Gbg6dBlEfDRMH1bmCcsvyX0vw140t1Pufs2oBmYFR7N7r7V3U8DT4a+ac/MmFxTwlaFg4hkmWSPHP4F+Guge1hONXDI3TvCfAswIUxPAHYChOXtof/Z9h7rnKs9I0ypLWHLvqNRlyEiklL9hoOZfRjY5+5rRqCe/mpZYGarzWx1a2tr1OUAMHVsKbvbT3LsVEf/nUVEMkQyRw7XA79nZtuJn/K5GfgqUGFmuaFPPbArTO8CGgDC8nLgQGJ7j3XO1d6Luz/q7k3u3lRbW5tE6cNvSm0poHssiUh26Tcc3P1Bd69390biF5R/6e53Ac8Bt4du84FnwvTiME9Y/kt399B+RxjNNBmYBrwMrAKmhdFP+eE9Fqdk60bAlLHxcNjSqlNLIpI9cvvvck5/AzxpZl8AXgEeD+2PA98xs2bgIPH/7HH39Wb2FLAB6ADud/dOADP7NLAUyAEWuvv6IdQ1oiZVF5MTM5p13UFEssiAwsHdnweeD9NbiY806tnnJPAH51j/i8AX+2hfAiwZSC3poiA3h4lVxTpyEJGsok9Ip0B8xJKuOYhI9lA4pMCU2lK27T9GZ5f331lEJAMoHFJgythSTnd2sfOgvttBRLKDwiEFuoez6rqDiGQLhUMKTKmN34BP4SAi2ULhkAIVxfnUlOZrOKuIZA2FwwCc73LzlNpStrRqxJKIZAeFwwDZOdqnjC2led9R4h8GFxHJbAqHFJk2tpT2E2doPXoq6lJERIZM4ZAi0+vKAHhzr647iEjmUzikyEUXxMPhjb2HI65ERGToFA4pUlNaQE1pPm++fSTqUkREhkzhkEIX1ZWxaa/CQUQyn8IhhaZfUMabbx+lS/dYEpEMp3BIoel1ZZw408nONt1jSUQym8IhhaaHi9I6tSQimU7hkELT6hQOIpIdFA4pVFqQS0NVEZs0YklEMpzCIcWma8SSiGQBhUOKTb+gjG37j3GqozPqUkREBk3hkGIX1ZXR0eVs1R1aRSSDKRxS7OILxgC6KC0imU3hkGIX1paQnxtjwx7dY0lEMpfCIcXycmJMrytj/e72qEsRERk0hcMwmDl+DOt3H9YX/4hIxlI4DIMZ48dw6PgZdrefjLoUEZFBUTgMg5nj4xel1+/SqSURyUwKh2Fw8QVjMIP1u3VRWkQyk8JhGJQU5DK5pkThICIZS+EwTGaOL2eDRiyJSIZSOAyTmePHsLv9JG3HTkddiojIgPUbDmZWaGYvm9lrZrbezP4htE82s5Vm1mxmPzCz/NBeEOabw/LGhNd6MLRvMrNbE9rnhrZmM3sg9ZuZGgMZmnr2orROLYlIBkrmyOEUcLO7Xw5cAcw1s9nAl4GvuPtUoA24N/S/F2gL7V8J/TCzGcAdwExgLvB1M8sxsxzgYWAeMAO4M/RNS2bJ9Zs5vhxAH4YTkYzUbzh43NEwmxceDtwMPB3aFwEfDdO3hXnC8lvMzEL7k+5+yt23Ac3ArPBodvet7n4aeDL0zWhVJfmMKy/UkYOIZKSkrjmEv/BfBfYBy4AtwCF37whdWoAJYXoCsBMgLG8HqhPbe6xzrvaMd+mEctbpsw4ikoGSCgd373T3K4B64n/pXzysVZ2DmS0ws9Vmtrq1tTWKEgbkioYKtu4/RvvxM1GXIiIyIAMareTuh4DngOuACjPLDYvqgV1hehfQABCWlwMHEtt7rHOu9r7e/1F3b3L3ptra2oGUHonL6ysAeH3XoYgrEREZmGRGK9WaWUWYLgI+AGwkHhK3h27zgWfC9OIwT1j+S48P81kM3BFGM00GpgEvA6uAaWH0Uz7xi9aLU7FxUbusPn5R+rWdCgcRySy5/XdhHLAojCqKAU+5+7NmtgF40sy+ALwCPB76Pw58x8yagYPE/7PH3deb2VPABqADuN/dOwHM7NPAUiAHWOju61O2hREqL8rjwtoSXt2p6w4ikln6DQd3fx24so/2rcSvP/RsPwn8wTle64vAF/toXwIsSaLejHNFfQW/2rwfd8eSHQcrIhIxfUJ6mF3eUMH+o6fYo9t3i0gGUTgMs8sb4heldd1BRDKJwmGYXTKujLwc49UWhYOIZA6FwzAryM1hxrgxOnIQkYyicBgBlzdUsLalnc4ufae0iGQGhcMIuLy+gmOnO9m870jUpYiIJEXhMAKaGisBWL29LeJKRESSo3AYAROriqktK2D19oNRlyIikhSFwwgwM5omVbJ6h44cRCQzKBxGSFNjFS1tJ9irD8OJSAZQOIyQa7qvO+zQqSURSX8KhxFyybgxFOXl6KK0iGQEhcMIycuJceXEClbporSIZACFwwhqmlTJxj2HOXqqo//OIiIRUjiMoKbGKrocXnlLp5ZEJL0pHEbQlRMriBms2qZTSyKS3hQOI6isMI/LJpSzYqvCQUTSm8JhgIb6XW6zp1Tzys42jp/WdQcRSV8KhxH23ik1nOl0DWkVkbSmcBhhTZMqyY0ZL209EHUpIiLnpHAYYSUFuVzRUMGLWxQOIpK+FA4ReO+Uata2HOLwyTNRlyIi0ieFQwRmT6mmyzWkVUTSl8IhAldNrCQ/N6ZTSyKSthQOESjMy6FpUiX/3bw/6lJERPqkcIjI9VNreGPvEfYd0fc7iEj6UThE5IaLagH41Zs6ehCR9KNwiMjM8WOoLSvg+U37oi5FRKQXhUNEzIz3Tavl15v309nlUZcjIvIuCocI3Ti9lvYTZ3h156GoSxEReReFQ4R+d1oNMYMX3myNuhQRkXfpNxzMrMHMnjOzDWa23sz+PLRXmdkyM9scnitDu5nZQ2bWbGavm9lVCa81P/TfbGbzE9qvNrO1YZ2HzGyoNz/NCBXF+VzRUMELuu4gImkmmSOHDuCv3H0GMBu438xmAA8Ay919GrA8zAPMA6aFxwLgEYiHCfBZ4FpgFvDZ7kAJff44Yb25Q9+0zHDj9LG8vqudA0dPRV2KiMhZ/YaDu+9x99+G6SPARmACcBuwKHRbBHw0TN8GPOFxK4AKMxsH3Aosc/eD7t4GLAPmhmVj3H2FuzvwRMJrZb0bp9fiDs9v0qklEUkfA7rmYGaNwJXASqDO3feERXuBujA9AdiZsFpLaDtfe0sf7aPCpePLqRtTwLINb0ddiojIWUmHg5mVAj8EPuPuhxOXhb/4h308ppktMLPVZra6tTU7/tKOxYw5My7ghTdbOXmmM+pyRESAJMPBzPKIB8N33f1HofntcEqI8Nx9VXUX0JCwen1oO197fR/tvbj7o+7e5O5NtbW1yZSeEebMrOPEmU5+s1mflhaR9JDMaCUDHgc2uvs/JyxaDHSPOJoPPJPQfncYtTQbaA+nn5YCc8ysMlyIngMsDcsOm9ns8F53J7zWqHDt5GrKCnP5+Ya9UZciIgJAbhJ9rgc+Aaw1s1dD298CXwKeMrN7gR3Ax8OyJcAHgWbgOPBJAHc/aGafB1aFfp9z9+4vNLgP+DZQBPw0PEaN/NwYN188ll9s3Ednl5MTGxUjeUUkjfUbDu7+G+Bc/1vd0kd/B+4/x2stBBb20b4auLS/WrLZrTMv4JlXd7N6+0GuvbA66nJEZJTTJ6QHwIfxkvv7LqolPzfG0vUatSQi0VM4DNBwfXi7tCCX902r4Wfr9tClG/GJSMQUDmnkI5ePZ3f7Sda81RZ1KSIyyikc0sj7L6mjMC/Gf762O+pSRGSUUzikkZKCXG65uI4la/fQ0dkVdTkiMoopHNLMRy4fz/6jp3lxy4GoSxGRUUzhkGZunF5LWUGuTi2JSKQUDmmmMC+HOTMv4Gfr9+peSyISGYVDGrrtivEcOdnB8o36EiARiYbCIQ1dP7WGceWF/Meanf13FhEZBgqHNJQTM26/up5fvdnKnvYTUZcjIqOQwiFN3X51PV0OP/ptn3cvFxEZVgqHNDWpuoTZF1bx1Oqd+HDe1ElEpA8KhzT28aYGdhw4zsvbDvbfWUQkhRQOaWzepeMoK8jlyVW6MC0iI0vhkMaK8nP42NX1/Nfre9h/9FTU5YjIKKJwSHN/NHsSpzu7ePLlt6IuRURGEYVDmps6tpTfnVbDv694SzfjE5ERo3DIAHdf18jewydZtkHfEiciI0PhkAFuvngs9ZVFLHppe9SliMgooXDIADkx4xOzJ7Fi60HW7WqPuhwRGQUUDhnizmsnUlaQyzde2BJ1KSIyCigcMsSYwjzumj2JJWv3sH3/sajLEZEsp3DIIJ+6vpHcnBiP/npr1KWISJZTOAyAE+09jsaOKeT2q+t5enUL+w6fjLQWEcluCocMs+B3L6Sjq4vHfrMt6lJEJIspHAbIIn7/xpoSPnrFBJ54abuOHkRk2CgcMtBn3n8RHZ3O155rjroUEclSCocMNLG6mI9f08D3X36LnQePR12OiGQhhUOG+rObp2JmPLR8c9SliEgWUjhkqHHlRfzRtZP44W9beGPv4ajLEZEs0284mNlCM9tnZusS2qrMbJmZbQ7PlaHdzOwhM2s2s9fN7KqEdeaH/pvNbH5C+9Vmtjas85CZRX3NN2P82c1TKSvM4/PPbtBXiYpISiVz5PBtYG6PtgeA5e4+DVge5gHmAdPCYwHwCMTDBPgscC0wC/hsd6CEPn+csF7P95JzqCzJ5y/eP43/bj6gO7aKSEr1Gw7u/iug55cY3wYsCtOLgI8mtD/hcSuACjMbB9wKLHP3g+7eBiwD5oZlY9x9hcf/9H0i4bUkCXfNnsTUsaV8cclGTnV0Rl2OiGSJwV5zqHP3PWF6L1AXpicAiV943BLaztfe0ke7JCkvJ8b//fAMdhw4zuP6YJyIpMiQL0iHv/hH5IS3mS0ws9Vmtrq1tXUk3jIj3HBRLXNm1PHVX2xmxwHdlE9Ehm6w4fB2OCVEeN4X2ncBDQn96kPb+drr+2jvk7s/6u5N7t5UW1s7yNKz0+duu5T8nBh/++O1ujgtIkM22HBYDHSPOJoPPJPQfncYtTQbaA+nn5YCc8ysMlyIngMsDcsOm9nsMErp7oTXkgG4oLyQv5l3Mf/dfICn17T0v4KIyHkkM5T1+8BLwHQzazGze4EvAR8ws83A+8M8wBJgK9AM/BtwH4C7HwQ+D6wKj8+FNkKfx8I6W4CfpmbTRp8/nDWRaxor+cJ/beRt3XdJRIYgt78O7n7nORbd0kdfB+4/x+ssBBb20b4auLS/OqR/sZjxpY+9hw899Gv+93+8xqJPziIW08dGRGTg9AnpLDOltpS//9AMfr15P996cXvU5YhIhlI4ZKG7rp3I+y8Zy5d/+gYb9+jWGiIycAqHLGRmfPlj72FMUR73f++3HDl5JuqSRCTDKByyVHVpAf9655XsOHCcv3rqNbq6NLxVRJKncMhi102p5sF5F/PzDW/zyAtboi5HRDKIwiHL3fs7k/nI5eP5p59vYvlG3ZxPRJKjcMhy8esPlzFz/Bg+/b1XeG3noahLEpEMoHAYBYrzc1l4zzVUl+bzqW+v0v2XRKRfCodRYmxZIYs+NYtOd+751ir26RPUInIeCocByPT72U2pLeXx+U28ffgkf/jYSlqPnIq6JBFJUwqHUebqSVV8655r2NV2grseW8H+owoIEelN4TBA2fAN19deWM3Ce67hrYPHufPRFew+dCLqkkQkzSgcRqnrplTzrXtmsbf9JB975EU2v30k6pJEJI0oHEax66ZU8+T/mk1Hl3P7N17i5W09vypcREYrhcMoN3N8OT/60/dSXZLPXY+t4Lsrd0RdkoikAYWD0FBVzI/vu57rp9bwdz9ex4M/ep1THZ1RlyUiEVI4CADlxXk8Pv8a7rtxCt9/eSe3P/ISzfuORl2WiERE4SBn5cSMv557Md/8xNW0tB3nw//6a/59xQ480z/gISIDpnCQXm6deQE/+8z7uKaxir//yTru+dYq3jpwPOqyRGQEKRykT3VjCln0yVn8w+/NZPX2g3zgKy/w8HPNnO7oiro0ERkBCgc5p1jMmP/eRn7xVzdw0/Sx/L+lm5j31V/x8/V7dapJJMspHKRf48qL+MYnrubx+U04sOA7a/j4N19izY62qEsTkWGicJCk3XJJHT//zPv44u9fyvYDx/nYIy/yicdX8uKW/TqSEMkyCgcZkNycGHddO4kX/s+NPDDvYjbuOcIf/ttKfv/rL7Jk7R7OdOqahEg2yI26AMlMxfm5/MkNU7jnvY08vaaFb/5qC/d997fUlhXwP5oauGNWA/WVxVGXKSKDpHCQISnMy+GPZk/izlkTeX7TPr678i0efr6Zh59v5vopNXzk8nHMnTmO8uK8qEsVkQFQOEhK5MSMWy6p45ZL6mhpO85Tq3byzGu7+ZsfruXvf7KOGy6q5daZF3DD9FrGlhVGXa6I9EPhIClXX1nMX86Zzl984CLW7mrnP1/bzbOv7+EXG/cB8J76cm6cPpYbLqrlsgnl5Ofq0pdIulE4yLAxM95TX8F76iv42w9ewoY9h3l+Uyu/fGMfX/vlZh5avpnCvBhXTaxk1uQqZjVWccXECorz9WspEjX9K5QRYWbMHF/OzPHl3H/TVNqOnWbF1gO8vP0gL287yFeXb8Y9/k17U2pLuXT8GC6dEO8/Y/wYyot0zUJkJCkcJBKVJfnMu2wc8y4bB0D7iTP8dkcbr7UcYt2uw6zcdpCfvLr7bP+a0gKm1JYwdWwpU2pLmTK2lElVxYyrKKQgNyeqzRDJWmkTDmY2F/gqkAM85u5firgkGUHlRXncdPFYbrp47Nm21iOnWLe7nTf3HmFL61G2tB7j2df30H7izNk+ZjC2rIAJFUVMqCwOz0XUlhZQW5ZPbWkhNWX5OlUlMkBp8S/GzHKAh4EPAC3AKjNb7O4boq1MolRbVsBN08dy0/R3AsPdOXDsNM37jvLWwePsajvBrkMn2NV2gtd2HuJn6/ZwprP3p7WL83OoLSugprSAyuJ8yovyKC/KY0xR7jvThXmUF8efSwtzKc7LoSg/h4LcGGY2kpsuErm0CAdgFtDs7lsBzOxJ4DZA4SDvYmbUlMb/k599YXWv5Z1dzv6jp2g9cirh+TT7j74zv+vQCTbuOczhE2c4cqqj3/eMWfxDf0X5ORTn51CUF3/ubivIjZGfG6MgN0ZeToz8nPj82UdOj+fQL8eMnBwjx4zcmBGL9Xg2Izcsz4n18TAjNxbDYmBAzAwzMMKzhbbwc4sZCjlJWrqEwwRgZ8J8C3DtcLzRh//115w8M7hbPLS0HeeyCeUprkhSKSdm1I0ppG5Mcp+l6Ojs4sjJDg6fPEP7iXcex051cPx0J8dPd3Ki+/lMvO3Yqfj0sdMd7D96itMdXZzq6OJ0ZxenO7o4E547utL3flPdQRELYYJxdvrdoRLv17ON0K9bz8jpmUHWo0fv5T3XP3+I9Vo/xe/X6937WX+ghhLSVcX5PPUn1w2xgv6lSzgkxcwWAAsAJk6cOKjXmFpb2udph2RMryvj1ksvGNS6kp5yc2JUluRTWZKf8tfu7HLOdMaDozswTieESJc7HV1OV9c7z519tHV0ebxvZ3x5Z9c7j44ux91xB8fpcs5Ou8dPwyW2dTngjgNdYb2usAx/py1xuYf+3r08TL/j3f+eet6Dsdd8f/17/Bz7W7+f2V43hez/9Qe2/oAN8QXKCkfmv+10CYddQEPCfH1oexd3fxR4FKCpqWlQP+J/uePKwawmMmDx0z85FOZpNJVknnT5aOoqYJqZTTazfOAOYHHENYmIjFppceTg7h1m9mlgKfGhrAvdfX3EZYmIjFppEQ4A7r4EWBJ1HSIikj6nlUREJI0oHEREpBeFg4iI9KJwEBGRXhQOIiLSi/X89F+mMLNWYMcgV68B9qewnEygbc5+o217Qds8UJPcvTaZjhkbDkNhZqvdvSnqOkaStjn7jbbtBW3zcNJpJRER6UXhICIivYzWcHg06gIioG3OfqNte0HbPGxG5TUHERE5v9F65CAiIucxqsLBzOaa2SYzazazB6KuZyjMrMHMnjOzDWa23sz+PLRXmdkyM9scnitDu5nZQ2HbXzezqxJea37ov9nM5ke1Tckwsxwze8XMng3zk81sZdiuH4RbvmNmBWG+OSxvTHiNB0P7JjO7NZotSZ6ZVZjZ02b2hpltNLPrsnk/m9lfhN/pdWb2fTMrzMb9bGYLzWyfma1LaEvZfjWzq81sbVjnIRvo18/Fv0Uq+x/EbwW+BbgQyAdeA2ZEXdcQtmcccFWYLgPeBGYA/wg8ENofAL4cpj8I/JT4NxzOBlaG9ipga3iuDNOVUW/febb7L4HvAc+G+aeAO8L0N4A/DdP3Ad8I03cAPwjTM8K+LwAmh9+JnKi3q59tXgT8zzCdD1Rk634m/pXB24CihP17TzbuZ+B9wFXAuoS2lO1X4OXQ18K68wZUX9Q/oBHcEdcBSxPmHwQejLquFG7fM8AHgE3AuNA2DtgUpr8J3JnQf1NYfifwzYT2d/VLpwfxbwhcDtwMPBt+6fcDuT33MfHvBrkuTOeGftZzvyf2S8cHUB7+s7Qe7Vm5n3nn++Srwn57Frg1W/cz0NgjHFKyX8OyNxLa39UvmcdoOq3U/UvXrSW0ZbxwKH0lsBKoc/c9YdFeoC5Mn2v7M+nn8i/AXwNdYb4aOOTuHWE+sfaz2xWWt4f+mbS9EP+rtxX4Vjid9piZlZCl+9nddwH/BLwF7CG+39aQ/fu5W6r264Qw3bM9aaMpHLKSmZUCPwQ+4+6HE5d5/E+GrBiOZmYfBva5+5qoaxlhucRPPTzi7lcCx4ifbjgry/ZzJXAb8VAcD5QAcyMtKiJR79fRFA67gIaE+frQlrHMLI94MHzX3X8Umt82s3Fh+ThgX2g/1/Znys/leuD3zGw78CTxU0tfBSrMrPsbDRNrP7tdYXk5cIDM2d5uLUCLu68M808TD4ts3c/vB7a5e6u7nwF+RHzfZ/t+7paq/borTPdsT9poCodVwLQw6iGf+MWrxRHXNGhh5MHjwEZ3/+eERYuB7hEL84lfi+huvzuMepgNtIfD16XAHDOrDH+1zQltacXdH3T3endvJL7vfunudwHPAbeHbj23t/vncHvo76H9jjDKZTIwjfiFu7Tk7nuBnWY2PTTdAmwgS/cz8dNJs82sOPyOd29vVu/nBCnZr2HZYTObHX6Odye8VnKiviAzwhcF5xhRAAAA0UlEQVR/Pkh8VM8W4O+irmeI2/I7xA85XwdeDY8PEj/fuhzYDPwCqAr9DXg4bPtaoCnhtT4FNIfHJ6PetiS2/UbeGa10IfF/9M3AfwAFob0wzDeH5RcmrP934eewiQGO4Ihoe68AVod9/RPio1Kydj8D/wC8AawDvkN8xFHW7Wfg+8Svq5whfoR4byr3K9AUfoZbgK/RY1BDfw99QlpERHoZTaeVREQkSQoHERHpReEgIiK9KBxERKQXhYOIiPSicBARkV4UDiIi0ovCQUREevn/5UIi/l2AONEAAAAASUVORK5CYII\u003d\n"
          },
          "metadata": {
            "needs_background": "light"
          },
          "output_type": "display_data"
        }
      ],
      "source": "\n# Itterate over the energi E\n\nfor iter in range(max_iter):\n    \n    # Init Fvec(r) \n    # TODO: Write down equation\n    # This vector is dependent on E\n    Fvec \u003d populate_Fvec(np.zeros(N), Vr, E)\n        \n    # Choose matching point (equvivalent grid index)\n    # In exercise suggested to start at 1fm\n    rmp_index \u003d 500\n   \n        \n    print(f\u0027Match r\u003d{r[rmp_index]}\u0027)\n    \n    # Init outward integrated wave function\n    u_outer \u003d numerov(np.zeros(N), Fvec, 0, h**1, rmp_index, h)\n    u_out_mp \u003d u[rmp_index]\n\n\n    # Init inward integrated wave function\n    u_inner \u003d numerov(np.zeros(N), Fvec, 0, h**1, (N - rmp_index - 2), h, revese\u003dTrue)\n    u_in_mp \u003d u[rmp_index+1]\n\n    # Scaling factor between ingoing and outgoing wave function\n    scale_factor \u003d u_out_mp / u_in_mp\n    \n    # Match the height and create the full vector u\n    u \u003d u_outer + scale_factor * u_inner\n    \n    \n    # Calculate the discontinuity of the derivitiv of mp\n    # TODO: Figure out if i need the index here of the value of r?\n    matching_numerator \u003d (u[rmp_index]-h)+(u[rmp_index]+h) - u[rmp_index]*(2 + (h**2)*Fvec[rmp_index])\n    matching_denominator \u003d h\n    matching \u003d matching_numerator / matching_denominator\n    \n    if matching \u003c continuity_tolerance:\n        # Break the loop\n        print(\u0027Within tolerance!\u0027)\n        break\n    \n    if u[rmp_index]*matching \u003e 0:\n        \n        Emax \u003d E\n        \n    if u[rmp_index]*matching \u003c 0:\n        \n        Emin \u003d E\n    \n    E \u003d 0.5 * (Emax+Emin)\n    \nplt.plot(u)",
      "metadata": {
        "pycharm": {
          "metadata": false,
          "name": "#%%\n",
          "is_executing": false
        }
      }
    }
  ],
  "metadata": {
    "language_info": {
      "codemirror_mode": {
        "name": "ipython",
        "version": 2
      },
      "file_extension": ".py",
      "mimetype": "text/x-python",
      "name": "python",
      "nbconvert_exporter": "python",
      "pygments_lexer": "ipython2",
      "version": "2.7.6"
    },
    "kernelspec": {
      "name": "python3",
      "language": "python",
      "display_name": "Python 3"
    },
    "stem_cell": {
      "cell_type": "raw",
      "source": "",
      "metadata": {
        "pycharm": {
          "metadata": false
        }
      }
    }
  },
  "nbformat": 4,
  "nbformat_minor": 0
}